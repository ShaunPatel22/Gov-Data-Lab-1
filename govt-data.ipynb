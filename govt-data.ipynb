{
 "cells": [
  {
   "cell_type": "code",
   "execution_count": null,
   "metadata": {},
   "outputs": [],
   "source": [
    "#UPDATE this cell with your data source + Dictionary/Codebook\n",
    "#data source: https://www.census.gov/data/datasets/time-series/demo/cps/cps-asec.2021.html\n",
    "#data dictionary: https://www2.census.gov/programs-surveys/cps/datasets/2021/march/asec2021_ddl_pub_full.pdf"
   ]
  },
  {
   "cell_type": "code",
   "execution_count": 1,
   "metadata": {},
   "outputs": [],
   "source": [
    "#import necessary libaries\n",
    "import pandas as pd\n",
    "import matplotlib"
   ]
  },
  {
   "cell_type": "code",
   "execution_count": 2,
   "metadata": {},
   "outputs": [],
   "source": [
    "#name file path (you will have download your own dataset and populate the path and choose the appropriate cell to execute)\n",
    "file = 'ffpub21.csv' # <-- edit this value! "
   ]
  },
  {
   "cell_type": "code",
   "execution_count": 3,
   "metadata": {},
   "outputs": [],
   "source": [
    "#you will run just ONE of the next four code blocks, depending on the file type of your dataset"
   ]
  },
  {
   "cell_type": "code",
   "execution_count": 4,
   "metadata": {},
   "outputs": [
    {
     "name": "stdout",
     "output_type": "stream",
     "text": [
      "   FPOVCUT  FPERSONS  FHEADIDX  FSPOUIDX  FOWNU6  FRELU6  FKIND  FKINDEX  \\\n",
      "0    20244         3         1         2       0       0      1        1   \n",
      "1    20244         3         1         2       0       0      1        1   \n",
      "2    12413         1         1         0       0       0      2        3   \n",
      "3    17839         2         1         0       0       0      2        3   \n",
      "4    13465         1         3         0       0       0      3        4   \n",
      "\n",
      "   FTYPE  FRELU18  ...  F_MV_SL  I_FHIPVAL  I_FHIPVAL2  I_FMEDVAL  I_FMOOP  \\\n",
      "0      1        0  ...        0          1           1          0        1   \n",
      "1      1        0  ...        0          0           0          0        0   \n",
      "2      2        0  ...        0          1           1          0        1   \n",
      "3      1        1  ...      105          0           0          0        0   \n",
      "4      5        0  ...        0          0           0          0        0   \n",
      "\n",
      "   I_FMOOP2  I_FOTCVAL  POVLL  FILEDATE  YYYYMM  \n",
      "0         1          0      5     81921  202103  \n",
      "1         0          0     14     81921  202103  \n",
      "2         1          1      5     81921  202103  \n",
      "3         0          0      1     81921  202103  \n",
      "4         0          0     12     81921  202103  \n",
      "\n",
      "[5 rows x 85 columns]\n"
     ]
    }
   ],
   "source": [
    "#read data from CSV (.csv) & print head\n",
    "df = pd.read_csv('ffpub21.csv')\n",
    "print(df.head())"
   ]
  },
  {
   "cell_type": "code",
   "execution_count": null,
   "metadata": {},
   "outputs": [],
   "source": [
    "#read data from SAS (.sas7bdat or .sas) & print head\n",
    "df = pd.read_sas(file)\n",
    "print(df.head())"
   ]
  },
  {
   "cell_type": "code",
   "execution_count": null,
   "metadata": {},
   "outputs": [],
   "source": [
    "#read data from excel (.xls or .xlsx) & print head\n",
    "df = pd.read_excel(file)\n",
    "print(df.head())"
   ]
  },
  {
   "cell_type": "code",
   "execution_count": null,
   "metadata": {},
   "outputs": [],
   "source": [
    "#read data from Stata (.dta) & print head\n",
    "df = pd.read_excel(file)\n",
    "print(df.head())"
   ]
  },
  {
   "cell_type": "code",
   "execution_count": null,
   "metadata": {},
   "outputs": [],
   "source": [
    "#list columns in data frame\n",
    "print(list(df))\n",
    "print(len(df))"
   ]
  },
  {
   "cell_type": "code",
   "execution_count": 6,
   "metadata": {},
   "outputs": [
    {
     "name": "stdout",
     "output_type": "stream",
     "text": [
      "   Kind Of Family Expanded   freq\n",
      "0                        1  31976\n",
      "3                        2    330\n",
      "2                        3  17439\n",
      "1                        4  23406\n"
     ]
    }
   ],
   "source": [
    "#output frequency table of chosen column in dataset\n",
    "col = 'FKINDEX' #<-edit this value! column name as it appears in dataframe\n",
    "col_name = 'Kind Of Family Expanded' #<-edit this value! descriptive name for column\n",
    "freq = df[col].value_counts().rename_axis(col_name).reset_index(name='freq')\n",
    "freq = freq.sort_values(by = col_name)\n",
    "print(freq)"
   ]
  },
  {
   "cell_type": "code",
   "execution_count": 7,
   "metadata": {},
   "outputs": [
    {
     "name": "stdout",
     "output_type": "stream",
     "text": [
      "              Kind Of Family Expanded   freq\n",
      "0  Opposite-sex married couple family  31976\n",
      "3      Same-sex married couple family    330\n",
      "2               Male reference person  17439\n",
      "1             Female reference person  23406\n"
     ]
    }
   ],
   "source": [
    "#replace codes with descriptive labels\n",
    "#if your dataframe already has descriptive labels, you don't need to run this cell\n",
    "codebook = [['1', 'Opposite-sex married couple family'], #<- if appropriate, replace these values based on codebook or data dictionary for your dataset\n",
    "            ['2', 'Same-sex married couple family'], \n",
    "            ['3', 'Male reference person'], \n",
    "            ['4', 'Female reference person'], ]\n",
    "#loops through label codes and replaces them in frequency table\n",
    "for lbl in codebook:\n",
    "    #use line below if codes are stored as integers\n",
    "    freq[col_name] = freq[col_name].replace(int(lbl[0]), lbl[1])\n",
    "    #use line below if codes are stored as strings\n",
    "    #freq[col_name] = freq[col_name].replace(lbl[0], lbl[1])\n",
    "#prints updated frequency table\n",
    "print(freq)"
   ]
  },
  {
   "cell_type": "code",
   "execution_count": 8,
   "metadata": {},
   "outputs": [
    {
     "data": {
      "image/png": "[encoded data removed]",
      "text/plain": [
       "<Figure size 432x288 with 1 Axes>"
      ]
     },
     "metadata": {
      "needs_background": "light"
     },
     "output_type": "display_data"
    }
   ],
   "source": [
    "#create frequency chart\n",
    "ax = freq.plot.barh(x=col_name, y='freq', rot=0)"
   ]
  },
  {
   "cell_type": "code",
   "execution_count": null,
   "metadata": {},
   "outputs": [],
   "source": []
  }
 ],
 "metadata": {
  "kernelspec": {
   "display_name": "Python 3 (ipykernel)",
   "language": "python",
   "name": "python3"
  },
  "language_info": {
   "codemirror_mode": {
    "name": "ipython",
    "version": 3
   },
   "file_extension": ".py",
   "mimetype": "text/x-python",
   "name": "python",
   "nbconvert_exporter": "python",
   "pygments_lexer": "ipython3",
   "version": "3.9.12"
  }
 },
 "nbformat": 4,
 "nbformat_minor": 4
}
